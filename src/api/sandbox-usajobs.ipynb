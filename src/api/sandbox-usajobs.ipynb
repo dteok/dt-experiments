{
 "cells": [
  {
   "cell_type": "code",
   "execution_count": 13,
   "metadata": {},
   "outputs": [],
   "source": [
    "import os\n",
    "import requests\n",
    "import pandas as pd\n",
    "import json\n",
    "import pprint\n",
    "from datetime import datetime\n",
    "from typing import List"
   ]
  },
  {
   "cell_type": "code",
   "execution_count": 62,
   "metadata": {},
   "outputs": [],
   "source": [
    "# ----- GLOBAL SETTINGS -----\n",
    "F_APIKEY = \"../../data/input/usajobs_gov.json\"\n",
    "URL_ROOT_SEARCH = \"https://data.usajobs.gov/api/search\"\n",
    "HOST = \"data.usajobs.gov\""
   ]
  },
  {
   "cell_type": "code",
   "execution_count": 63,
   "metadata": {},
   "outputs": [],
   "source": [
    "def set_api(filepath: str) -> List:\n",
    "    with open(filepath, \"r\") as apifile:\n",
    "        creds = json.load(apifile)\n",
    "\n",
    "    user = creds.get(\"user_agent\")\n",
    "    authkey = creds.get(\"authorization_key\")\n",
    "    host = HOST\n",
    "\n",
    "    return [user, authkey, host]"
   ]
  },
  {
   "cell_type": "code",
   "execution_count": 88,
   "metadata": {},
   "outputs": [],
   "source": [
    "def get_response(url_root: str, headers=dict()):\n",
    "    # user, authkey, host = api_auth\n",
    "    resp = requests.get(\n",
    "        url_root,\n",
    "        headers={\"Host\": host, \"User-Agent\": user, \"Authorization-Key\": authkey}\n",
    "        # params={\"Keyword\": \"detonation\", \"LocationName\": \"\"}\n",
    "    )\n",
    "    try:\n",
    "        print(resp.status_code)\n",
    "        resp.raise_for_status()\n",
    "    except requests.exceptions.RequestException as re:\n",
    "        # Whoops it wan't a 200\n",
    "        return (f\"RequestError: {str(re)}\")\n",
    "        # pprint.pprint(re.response.text)\n",
    "    except requests.exceptions.Timeout as to:\n",
    "        return (f\"Time out Error: {str(to)}\")\n",
    "    except requests.exceptions.HTTPError as http:\n",
    "        return (f\"HTTPERROR: {str(http)}\")\n",
    "    except requests.exceptions.BaseHTTPError as bhe:\n",
    "        return (f\"BasicHTTPError: {str(bhe)}\")\n",
    "    except requests.exceptions.ConnectionError as ec:\n",
    "        return (f\"Error connecting: {str(ec)}\")\n",
    "    return resp"
   ]
  },
  {
   "cell_type": "code",
   "execution_count": 82,
   "metadata": {},
   "outputs": [],
   "source": [
    "def extract_data(resp, url_root=None, headers=None, params=None):\n",
    "    if resp.status_code == 200:\n",
    "        data = requests.get(url_root, headers, params)"
   ]
  },
  {
   "cell_type": "code",
   "execution_count": 91,
   "metadata": {},
   "outputs": [
    {
     "name": "stdout",
     "output_type": "stream",
     "text": [
      "200\n"
     ]
    }
   ],
   "source": [
    "user, authkey, host = set_api(F_APIKEY)\n",
    "headers={\"Host\": host, \"User-Agent\": user, \"Authorization-Key\": authkey}\n",
    "resp = get_response(URL_ROOT_SEARCH, headers)\n",
    "# extract_data(resp, headers)"
   ]
  },
  {
   "cell_type": "code",
   "execution_count": null,
   "metadata": {},
   "outputs": [],
   "source": [
    "# i'd need beautifulsoup\n",
    "# i can then base the query on the url\n",
    "# his name is Eid Zaben"
   ]
  }
 ],
 "metadata": {
  "interpreter": {
   "hash": "a7fbbb43e24b783c99dc0dc751f60b92744b3032bcfe4e5b02098b9e2ebbb95d"
  },
  "kernelspec": {
   "display_name": "Python 3.8.5 64-bit ('.dt-experiments': pyenv)",
   "name": "python3"
  },
  "language_info": {
   "codemirror_mode": {
    "name": "ipython",
    "version": 3
   },
   "file_extension": ".py",
   "mimetype": "text/x-python",
   "name": "python",
   "nbconvert_exporter": "python",
   "pygments_lexer": "ipython3",
   "version": "3.8.5"
  },
  "orig_nbformat": 4
 },
 "nbformat": 4,
 "nbformat_minor": 2
}
